{
 "cells": [
  {
   "cell_type": "code",
   "execution_count": 1,
   "metadata": {},
   "outputs": [
    {
     "name": "stderr",
     "output_type": "stream",
     "text": [
      "c:\\Users\\csouza\\AppData\\Local\\pypoetry\\Cache\\virtualenvs\\academic-fingerprint-4AictD0y-py3.11\\Lib\\site-packages\\tqdm\\auto.py:21: TqdmWarning: IProgress not found. Please update jupyter and ipywidgets. See https://ipywidgets.readthedocs.io/en/stable/user_install.html\n",
      "  from .autonotebook import tqdm as notebook_tqdm\n"
     ]
    }
   ],
   "source": [
    "# Importação de bibliotecas\n",
    "\n",
    "import os\n",
    "import sys\n",
    "import pandas as pd\n",
    "import numpy as np\n",
    "import polars as pl\n",
    "import re\n",
    "import spacy\n",
    "import nltk\n",
    "from nltk.corpus import stopwords\n",
    "from sklearn.model_selection import train_test_split\n",
    "from sklearn.preprocessing import MultiLabelBinarizer\n",
    "from sklearn.metrics import accuracy_score, f1_score, recall_score, precision_score\n",
    "from bertopic import BERTopic\n",
    "from transformers import BertTokenizer, BertForSequenceClassification, AdamW, get_linear_schedule_with_warmup\n",
    "import torch\n",
    "from torch.utils.data import DataLoader, Dataset\n",
    "from umap import UMAP"
   ]
  },
  {
   "cell_type": "code",
   "execution_count": 2,
   "metadata": {},
   "outputs": [],
   "source": [
    "# Definicao da raiz do projeto\n",
    "\n",
    "PROJECT_ROOT = 'G:/Csouza/nlp/topic_modeling'\n",
    "\n",
    "os.chdir(PROJECT_ROOT)\n",
    "\n",
    "sys.path.insert(0, PROJECT_ROOT)"
   ]
  },
  {
   "cell_type": "code",
   "execution_count": 3,
   "metadata": {},
   "outputs": [],
   "source": [
    "def extract(extract_path, file_name='all_process.xlsx', sheet_name='Sheet1'):\n",
    "    \n",
    "    return pl.read_excel(f'{extract_path}/{file_name}', sheet_name=sheet_name)"
   ]
  },
  {
   "cell_type": "code",
   "execution_count": 4,
   "metadata": {},
   "outputs": [
    {
     "data": {
      "text/html": [
       "<div><style>\n",
       ".dataframe > thead > tr,\n",
       ".dataframe > tbody > tr {\n",
       "  text-align: right;\n",
       "  white-space: pre-wrap;\n",
       "}\n",
       "</style>\n",
       "<small>shape: (3, 10)</small><table border=\"1\" class=\"dataframe\"><thead><tr><th>n_processo</th><th>titulo</th><th>grande_area</th><th>area</th><th>subarea</th><th>palavras_chave</th><th>assuntos</th><th>resumo</th><th>ano</th><th>mes</th></tr><tr><td>str</td><td>str</td><td>str</td><td>str</td><td>str</td><td>str</td><td>str</td><td>str</td><td>i32</td><td>i8</td></tr></thead><tbody><tr><td>&quot;95/04916-0&quot;</td><td>&quot;Estudo sistemático de campos h…</td><td>&quot;Ciências Exatas e da Terra&quot;</td><td>&quot;Física&quot;</td><td>&quot;Física da Matéria Condensada&quot;</td><td>&quot;CORRELACAO ANGULAR, ESTUDO SIS…</td><td>null</td><td>&quot;Este projeto está vinculado ao…</td><td>1995</td><td>12</td></tr><tr><td>&quot;95/05064-7&quot;</td><td>&quot;Cultura, ideologia e represent…</td><td>&quot;Ciências Humanas&quot;</td><td>&quot;Sociologia&quot;</td><td>&quot;Outras Sociologias Específicas&quot;</td><td>&quot;BRASIL, IDENTIDADE, PENSAMENTO…</td><td>&quot;Brasil:Identidade social&quot;</td><td>&quot;Participar do Seminário &quot;&quot;Soci…</td><td>1995</td><td>12</td></tr><tr><td>&quot;95/09836-4&quot;</td><td>&quot;Bernard Schmitt | Université d…</td><td>&quot;Ciências Exatas e da Terra&quot;</td><td>&quot;Probabilidade e Estatística&quot;</td><td>&quot;Probabilidade&quot;</td><td>&quot;COMPRESSOR, ENTROPIA, ESTADO D…</td><td>&quot;Entropia (matemática aplicada)…</td><td>&quot;O principal objetivo da visita…</td><td>1995</td><td>12</td></tr></tbody></table></div>"
      ],
      "text/plain": [
       "shape: (3, 10)\n",
       "┌────────────┬─────────────┬─────────────┬─────────────┬───┬─────────────┬────────────┬──────┬─────┐\n",
       "│ n_processo ┆ titulo      ┆ grande_area ┆ area        ┆ … ┆ assuntos    ┆ resumo     ┆ ano  ┆ mes │\n",
       "│ ---        ┆ ---         ┆ ---         ┆ ---         ┆   ┆ ---         ┆ ---        ┆ ---  ┆ --- │\n",
       "│ str        ┆ str         ┆ str         ┆ str         ┆   ┆ str         ┆ str        ┆ i32  ┆ i8  │\n",
       "╞════════════╪═════════════╪═════════════╪═════════════╪═══╪═════════════╪════════════╪══════╪═════╡\n",
       "│ 95/04916-0 ┆ Estudo      ┆ Ciências    ┆ Física      ┆ … ┆ null        ┆ Este       ┆ 1995 ┆ 12  │\n",
       "│            ┆ sistemático ┆ Exatas e da ┆             ┆   ┆             ┆ projeto    ┆      ┆     │\n",
       "│            ┆ de campos   ┆ Terra       ┆             ┆   ┆             ┆ está       ┆      ┆     │\n",
       "│            ┆ h…          ┆             ┆             ┆   ┆             ┆ vinculado  ┆      ┆     │\n",
       "│            ┆             ┆             ┆             ┆   ┆             ┆ ao…        ┆      ┆     │\n",
       "│ 95/05064-7 ┆ Cultura,    ┆ Ciências    ┆ Sociologia  ┆ … ┆ Brasil:Iden ┆ Participar ┆ 1995 ┆ 12  │\n",
       "│            ┆ ideologia e ┆ Humanas     ┆             ┆   ┆ tidade      ┆ do         ┆      ┆     │\n",
       "│            ┆ represent…  ┆             ┆             ┆   ┆ social      ┆ Seminário  ┆      ┆     │\n",
       "│            ┆             ┆             ┆             ┆   ┆             ┆ \"\"Soci…    ┆      ┆     │\n",
       "│ 95/09836-4 ┆ Bernard     ┆ Ciências    ┆ Probabilida ┆ … ┆ Entropia    ┆ O          ┆ 1995 ┆ 12  │\n",
       "│            ┆ Schmitt |   ┆ Exatas e da ┆ de e        ┆   ┆ (matemática ┆ principal  ┆      ┆     │\n",
       "│            ┆ Université  ┆ Terra       ┆ Estatística ┆   ┆ aplicada)…  ┆ objetivo   ┆      ┆     │\n",
       "│            ┆ d…          ┆             ┆             ┆   ┆             ┆ da visita… ┆      ┆     │\n",
       "└────────────┴─────────────┴─────────────┴─────────────┴───┴─────────────┴────────────┴──────┴─────┘"
      ]
     },
     "execution_count": 4,
     "metadata": {},
     "output_type": "execute_result"
    }
   ],
   "source": [
    "data_path = os.path.join(PROJECT_ROOT, 'data', 'internal', 'fapesp_projects')\n",
    "\n",
    "full_data = extract(data_path)\n",
    "\n",
    "variables = {\n",
    "'N. Processo_B.V': 'n_processo',\n",
    "'Data de Início': 'data',\n",
    "'Título (Português)': 'titulo',\n",
    "'Grande Área do Conhecimento': 'grande_area',\n",
    "'Área do Conhecimento': 'area',\n",
    "'Subárea do Conhecimento': 'subarea',\n",
    "'Palavras-Chave do Processo': 'palavras_chave',\n",
    "'Assuntos': 'assuntos',\n",
    "'Resumo (Português)': 'resumo'}\n",
    "\n",
    "full_data = (\n",
    "    full_data\n",
    "    .lazy()\n",
    "    .rename(variables)\n",
    "    .select(variables.values())\n",
    "    .filter(\n",
    "        pl.col('n_processo').is_not_null(),\n",
    "        pl.col('resumo').is_not_null(),\n",
    "        pl.col('resumo') != '')\n",
    "    .with_columns(\n",
    "        pl.col('data').str.to_datetime('%m-%d-%y').dt.year().alias('ano'),\n",
    "        pl.col('data').str.to_datetime('%m-%d-%y').dt.month().alias('mes'))\n",
    "    .select(pl.exclude('data'))\n",
    ").collect()\n",
    "\n",
    "full_data.head(3)"
   ]
  },
  {
   "cell_type": "code",
   "execution_count": 5,
   "metadata": {},
   "outputs": [
    {
     "data": {
      "text/plain": [
       "(17342, 10)"
      ]
     },
     "execution_count": 5,
     "metadata": {},
     "output_type": "execute_result"
    }
   ],
   "source": [
    "data_train_test = full_data.filter(pl.col('assuntos').is_not_null(), pl.col('area') == 'Medicina')\n",
    "\n",
    "data_train_test.shape"
   ]
  },
  {
   "cell_type": "code",
   "execution_count": 6,
   "metadata": {},
   "outputs": [],
   "source": [
    "def get_spacy_model(model='en_core_web_sm'):\n",
    "    \"\"\"\n",
    "    Baixa o modelo de linguagem spaCy se não estiver presente.\n",
    "    \"\"\"\n",
    "    try:\n",
    "        nlp = spacy.load(model)\n",
    "    except OSError:\n",
    "        from spacy.cli import download\n",
    "        download(model)\n",
    "        nlp = spacy.load(model)\n",
    "    return nlp"
   ]
  },
  {
   "cell_type": "code",
   "execution_count": 7,
   "metadata": {},
   "outputs": [],
   "source": [
    "# Carregar o modelo de linguagem em português do spaCy\n",
    "nlp = get_spacy_model('pt_core_news_sm')\n",
    "\n",
    "# Definir as stop words em português\n",
    "stop_words = set(stopwords.words('portuguese'))\n",
    "\n",
    "def clean_text(text, special_char_remover=re.compile(r'[^A-Za-z\\s]')):\n",
    "    if not isinstance(text, str):\n",
    "        raise ValueError(\"O argumento 'text' deve ser uma string.\")\n",
    "    \n",
    "    # Remover caracteres especiais\n",
    "    text = special_char_remover.sub('', text)\n",
    "    \n",
    "    # Converter para minúsculas e remover stop words\n",
    "    text = ' '.join([word for word in text.lower().split() if word not in stop_words])\n",
    "    \n",
    "    # Lematizar o texto\n",
    "    doc = nlp(text)\n",
    "    text = ' '.join([token.lemma_ for token in doc])\n",
    "\n",
    "    return text"
   ]
  },
  {
   "cell_type": "code",
   "execution_count": 8,
   "metadata": {},
   "outputs": [],
   "source": [
    "# Carregar os dados\n",
    "data = data_train_test.to_pandas()\n",
    "\n",
    "data['titulo'] = data['titulo'].astype(str)\n",
    "data['palavras_chave'] = data['palavras_chave'].astype(str)\n",
    "\n",
    "data['cleaned_text'] = data['resumo'].apply(clean_text)\n",
    "data['cleaned_text'] += ' Título: ' + data['titulo'].apply(clean_text) + ' Palavras-chave: ' + data['palavras_chave'].apply(clean_text)\n",
    "\n",
    "# Dividir os dados em treino e teste\n",
    "train_data, test_data = train_test_split(data, test_size=0.2, random_state=42)\n",
    "\n",
    "# Tokenização com BERT\n",
    "tokenizer = BertTokenizer.from_pretrained('bert-base-multilingual-cased')\n",
    "\n",
    "train_tokenized_texts = tokenizer(train_data['cleaned_text'].tolist(), padding=True, truncation=True, return_tensors=\"pt\")\n",
    "test_tokenized_texts = tokenizer(test_data['cleaned_text'].tolist(), padding=True, truncation=True, return_tensors=\"pt\")\n",
    "\n",
    "# Converte os assuntos em listas\n",
    "train_data['assuntos_list'] = train_data['assuntos'].apply(lambda x: x.split(':'))\n",
    "test_data['assuntos_list'] = test_data['assuntos'].apply(lambda x: x.split(':'))\n",
    "\n",
    "# Binariza os rótulos\n",
    "mlb = MultiLabelBinarizer()\n",
    "\n",
    "train_binary_labels = mlb.fit_transform(train_data['assuntos_list'])\n",
    "test_binary_labels = mlb.transform(test_data['assuntos_list'])"
   ]
  },
  {
   "cell_type": "code",
   "execution_count": 9,
   "metadata": {},
   "outputs": [
    {
     "name": "stderr",
     "output_type": "stream",
     "text": [
      "Some weights of BertForSequenceClassification were not initialized from the model checkpoint at bert-base-multilingual-cased and are newly initialized: ['classifier.bias', 'classifier.weight']\n",
      "You should probably TRAIN this model on a down-stream task to be able to use it for predictions and inference.\n"
     ]
    }
   ],
   "source": [
    "# Modelo BERT pré-treinado\n",
    "model = BertForSequenceClassification.from_pretrained('bert-base-multilingual-cased', num_labels=len(mlb.classes_))\n",
    "\n",
    "# Ajuste da camada de classificação para multi-rótulo\n",
    "model.classifier = torch.nn.Sequential(\n",
    "    torch.nn.Linear(model.config.hidden_size, model.config.hidden_size),\n",
    "    torch.nn.ReLU(),\n",
    "    torch.nn.Linear(model.config.hidden_size, len(mlb.classes_)),\n",
    "    torch.nn.Sigmoid()\n",
    ")"
   ]
  },
  {
   "cell_type": "code",
   "execution_count": 10,
   "metadata": {},
   "outputs": [],
   "source": [
    "# Congelar todas as camadas do BERT\n",
    "for param in model.bert.parameters():\n",
    "    param.requires_grad = False\n",
    "\n",
    "# Descongelar a última camada\n",
    "for param in model.bert.encoder.layer[-1].parameters():\n",
    "    param.requires_grad = True\n",
    "\n",
    "# A camada de classificação é treinada por padrão\n",
    "for param in model.classifier.parameters():\n",
    "    param.requires_grad = True\n",
    "\n",
    "# Função de perda e otimizador\n",
    "criterion = torch.nn.BCEWithLogitsLoss()\n",
    "optimizer = AdamW(filter(lambda p: p.requires_grad, model.parameters()), lr=2e-5, eps=1e-8)  # Apenas atualiza os parâmetros que requerem gradiente\n",
    "\n",
    "num_epochs = 3\n",
    "\n",
    "# Scheduler de taxa de aprendizado\n",
    "total_steps = len(train_tokenized_texts['input_ids']) * num_epochs\n",
    "scheduler = get_linear_schedule_with_warmup(optimizer, num_warmup_steps=0, num_training_steps=total_steps)"
   ]
  },
  {
   "cell_type": "code",
   "execution_count": 11,
   "metadata": {},
   "outputs": [],
   "source": [
    "class CustomDataset(Dataset):\n",
    "    def __init__(self, encodings, labels):\n",
    "        self.encodings = encodings\n",
    "        self.labels = labels\n",
    "\n",
    "    def __len__(self):\n",
    "        return len(self.labels)\n",
    "\n",
    "    def __getitem__(self, idx):\n",
    "        item = {key: torch.tensor(val[idx]) for key, val in self.encodings.items()}\n",
    "        item['labels'] = torch.tensor(self.labels[idx], dtype=torch.float)\n",
    "        return item\n",
    "\n",
    "# Criar datasets e dataloaders para treino e teste\n",
    "train_dataset = CustomDataset(train_tokenized_texts, train_binary_labels)\n",
    "test_dataset = CustomDataset(test_tokenized_texts, test_binary_labels)\n",
    "train_dataloader = DataLoader(train_dataset, batch_size=16, shuffle=True)\n",
    "test_dataloader = DataLoader(test_dataset, batch_size=16, shuffle=False)"
   ]
  },
  {
   "cell_type": "code",
   "execution_count": 12,
   "metadata": {},
   "outputs": [],
   "source": [
    "def train(model, dataloader, criterion, optimizer, scheduler, device):\n",
    "    model.train()\n",
    "    total_loss = 0\n",
    "\n",
    "    for batch in dataloader:\n",
    "        optimizer.zero_grad()\n",
    "        input_ids = batch['input_ids'].to(device)\n",
    "        attention_mask = batch['attention_mask'].to(device)\n",
    "        labels = batch['labels'].to(device)\n",
    "\n",
    "        outputs = model(input_ids=input_ids, attention_mask=attention_mask)\n",
    "        loss = criterion(outputs.logits, labels)\n",
    "        total_loss += loss.item()\n",
    "\n",
    "        loss.backward()\n",
    "        optimizer.step()\n",
    "        scheduler.step()\n",
    "\n",
    "    avg_loss = total_loss / len(dataloader)\n",
    "    return avg_loss"
   ]
  },
  {
   "cell_type": "code",
   "execution_count": 13,
   "metadata": {},
   "outputs": [],
   "source": [
    "# Função de avaliação\n",
    "def evaluate(model, dataloader, criterion, device):\n",
    "    model.eval()\n",
    "    total_loss = 0\n",
    "    all_labels = []\n",
    "    all_preds = []\n",
    "\n",
    "    with torch.no_grad():\n",
    "        for batch in dataloader:\n",
    "            input_ids = batch['input_ids'].to(device)\n",
    "            attention_mask = batch['attention_mask'].to(device)\n",
    "            labels = batch['labels'].to(device)\n",
    "\n",
    "            outputs = model(input_ids=input_ids, attention_mask=attention_mask)\n",
    "            loss = criterion(outputs.logits, labels)\n",
    "            total_loss += loss.item()\n",
    "            preds = torch.sigmoid(outputs.logits).cpu().numpy()\n",
    "            all_labels.extend(labels.cpu().numpy())\n",
    "            all_preds.extend(preds)\n",
    "\n",
    "        avg_loss = total_loss / len(dataloader)\n",
    "        return avg_loss, all_labels, all_preds\n",
    "\n",
    "# Função para calcular métricas\n",
    "def compute_metrics(labels, preds, threshold=0.5):\n",
    "    preds = (preds > threshold).astype(int)\n",
    "    accuracy = accuracy_score(labels, preds)\n",
    "    f1 = f1_score(labels, preds, average='samples')\n",
    "    recall = recall_score(labels, preds, average='samples')\n",
    "    precision = precision_score(labels, preds, average='samples')\n",
    "    \n",
    "    return {\n",
    "        'accuracy': accuracy,\n",
    "        'f1': f1,\n",
    "        'recall': recall,\n",
    "        'precision': precision\n",
    "    }"
   ]
  },
  {
   "cell_type": "code",
   "execution_count": 14,
   "metadata": {},
   "outputs": [],
   "source": [
    "model_path = os.path.join(PROJECT_ROOT, 'models')\n",
    "model_name = f'{model_path}/best_model.pt'\n",
    "\n",
    "if not os.path.exists(model_name):\n",
    "    # Loop de Treinamento e Avaliação\n",
    "    device = torch.device('cuda' if torch.cuda.is_available() else 'cpu')\n",
    "    model.to(device)\n",
    "\n",
    "    num_epochs = 3\n",
    "    best_f1 = 0\n",
    "\n",
    "    for epoch in range(num_epochs):\n",
    "        print(f'Epoch {epoch + 1}/{num_epochs}')\n",
    "        \n",
    "        train_loss = train(model, train_dataloader, criterion, optimizer, scheduler, device)\n",
    "        print(f'Training loss: {train_loss:.4f}')\n",
    "        \n",
    "        val_loss, val_labels, val_preds = evaluate(model, test_dataloader, criterion, device)\n",
    "        print(f'Validation loss: {val_loss:.4f}')\n",
    "        \n",
    "        metrics = compute_metrics(np.array(val_labels), np.array(val_preds))\n",
    "        print(f'Validation metrics: {metrics}')\n",
    "        \n",
    "        if metrics['f1'] > best_f1:\n",
    "            print(f'Saving best model with F1 score: {metrics[\"f1\"]:.4f}')\n",
    "            torch.save(model.state_dict(), model_name)\n",
    "            best_f1 = metrics['f1']"
   ]
  },
  {
   "cell_type": "code",
   "execution_count": 53,
   "metadata": {},
   "outputs": [],
   "source": [
    "from bertopic import BERTopic\n",
    "from sentence_transformers import SentenceTransformer\n",
    "from umap import UMAP\n",
    "import torch\n",
    "\n",
    "# Carregar o modelo fine-tuned\n",
    "model.load_state_dict(torch.load(model_name))\n",
    "model.eval()\n",
    "\n",
    "# Função para gerar embeddings\n",
    "def get_embeddings(texts, model, tokenizer):\n",
    "    inputs = tokenizer(texts, padding=True, truncation=True, return_tensors=\"pt\")\n",
    "    with torch.no_grad():\n",
    "        outputs = model.bert(**inputs)\n",
    "    embeddings = outputs.last_hidden_state[:, 0, :]  # Use [CLS] token embeddings\n",
    "    return embeddings\n",
    "\n",
    "# Gerar embeddings\n",
    "embeddings = get_embeddings(test_data['cleaned_text'].tolist(), model, tokenizer)\n",
    "\n",
    "# Verificar se os embeddings foram gerados corretamente\n",
    "if embeddings.size(0) == 0:\n",
    "    raise ValueError(\"Os embeddings gerados estão vazios.\")\n",
    "\n",
    "# Debug print para verificar os embeddings\n",
    "print(f\"Shape of embeddings: {embeddings.shape}\")\n",
    "\n",
    "# Inicializar BERTopic com um modelo de embeddings padrão\n",
    "embedding_model = SentenceTransformer(\"all-MiniLM-L6-v2\")\n",
    "umap_model = UMAP(n_neighbors=3, n_components=2, metric='cosine', random_state=42)  # Ajuste n_neighbors conforme necessário\n",
    "topic_model = BERTopic(embedding_model=embedding_model, umap_model=umap_model)\n",
    "\n",
    "# Ajustar o modelo aos dados\n",
    "try:\n",
    "    topics, probabilities = topic_model.fit_transform(test_data['cleaned_text'].tolist(), embeddings.numpy())\n",
    "except ValueError as e:\n",
    "    raise ValueError(f\"Erro ao ajustar o modelo BERTopic: {e}\")\n",
    "\n",
    "# Verificar se os tópicos foram gerados corretamente\n",
    "if len(topics) == 0:\n",
    "    raise ValueError(\"Nenhum tópico foi gerado. Verifique os dados de entrada e os embeddings.\")\n",
    "\n",
    "# Debug print para verificar os tópicos\n",
    "print(f\"Number of topics: {len(set(topics))}\")\n",
    "\n",
    "# Verificar se os embeddings dos tópicos não são vazios antes da visualização\n",
    "if topic_model.topic_embeddings_ is not None:\n",
    "    if topic_model.topic_embeddings_.size == 0:\n",
    "        raise ValueError(\"Os embeddings dos tópicos estão vazios.\")\n",
    "else:\n",
    "    if topic_model.c_tf_idf_.size == 0:\n",
    "        raise ValueError(\"A matriz c_tf_idf_ dos tópicos está vazia.\")\n",
    "\n",
    "# Adicionar verificação de tamanho dos embeddings antes de visualizar os tópicos\n",
    "if topic_model.topic_embeddings_ is not None:\n",
    "    if topic_model.topic_embeddings_.shape[0] == 0 or topic_model.topic_embeddings_.shape[1] == 0:\n",
    "        raise ValueError(\"Os embeddings dos tópicos têm tamanho zero.\")\n",
    "else:\n",
    "    if topic_model.c_tf_idf_.shape[0] == 0 or topic_model.c_tf_idf_.shape[1] == 0:\n",
    "        raise ValueError(\"A matriz c_tf_idf_ dos tópicos tem tamanho zero.\")\n",
    "\n",
    "# Debug print para verificar os embeddings dos tópicos\n",
    "print(f\"Shape of topic embeddings: {topic_model.topic_embeddings_.shape if topic_model.topic_embeddings_ is not None else 'N/A'}\")\n",
    "print(f\"Shape of c_tf_idf_: {topic_model.c_tf_idf_.shape}\")"
   ]
  },
  {
   "cell_type": "code",
   "execution_count": 45,
   "metadata": {},
   "outputs": [
    {
     "data": {
      "application/vnd.plotly.v1+json": {
       "config": {
        "plotlyServerURL": "https://plot.ly"
       },
       "data": [
        {
         "marker": {
          "color": "#D55E00"
         },
         "orientation": "h",
         "type": "bar",
         "x": [
          0.024562273027600168,
          0.02766165969428305,
          0.028532781188930545,
          0.03339105590386402,
          0.036298777542597284
         ],
         "xaxis": "x",
         "y": [
          "ttulo  ",
          "de  ",
          "sero  ",
          "estudo  ",
          "paciente  "
         ],
         "yaxis": "y"
        },
        {
         "marker": {
          "color": "#0072B2"
         },
         "orientation": "h",
         "type": "bar",
         "x": [
          0.07839402852486242,
          0.07890028790596779,
          0.08725437525094656,
          0.1492881518412714,
          0.15489665813577108
         ],
         "xaxis": "x2",
         "y": [
          "concentrao  ",
          "registro  ",
          "plasma  ",
          "th  ",
          "colesterol  "
         ],
         "yaxis": "y2"
        }
       ],
       "layout": {
        "annotations": [
         {
          "font": {
           "size": 16
          },
          "showarrow": false,
          "text": "Topic 0",
          "x": 0.0875,
          "xanchor": "center",
          "xref": "paper",
          "y": 1,
          "yanchor": "bottom",
          "yref": "paper"
         },
         {
          "font": {
           "size": 16
          },
          "showarrow": false,
          "text": "Topic 1",
          "x": 0.36250000000000004,
          "xanchor": "center",
          "xref": "paper",
          "y": 1,
          "yanchor": "bottom",
          "yref": "paper"
         }
        ],
        "height": 325,
        "hoverlabel": {
         "bgcolor": "white",
         "font": {
          "family": "Rockwell",
          "size": 16
         }
        },
        "showlegend": false,
        "template": {
         "data": {
          "bar": [
           {
            "error_x": {
             "color": "#2a3f5f"
            },
            "error_y": {
             "color": "#2a3f5f"
            },
            "marker": {
             "line": {
              "color": "white",
              "width": 0.5
             },
             "pattern": {
              "fillmode": "overlay",
              "size": 10,
              "solidity": 0.2
             }
            },
            "type": "bar"
           }
          ],
          "barpolar": [
           {
            "marker": {
             "line": {
              "color": "white",
              "width": 0.5
             },
             "pattern": {
              "fillmode": "overlay",
              "size": 10,
              "solidity": 0.2
             }
            },
            "type": "barpolar"
           }
          ],
          "carpet": [
           {
            "aaxis": {
             "endlinecolor": "#2a3f5f",
             "gridcolor": "#C8D4E3",
             "linecolor": "#C8D4E3",
             "minorgridcolor": "#C8D4E3",
             "startlinecolor": "#2a3f5f"
            },
            "baxis": {
             "endlinecolor": "#2a3f5f",
             "gridcolor": "#C8D4E3",
             "linecolor": "#C8D4E3",
             "minorgridcolor": "#C8D4E3",
             "startlinecolor": "#2a3f5f"
            },
            "type": "carpet"
           }
          ],
          "choropleth": [
           {
            "colorbar": {
             "outlinewidth": 0,
             "ticks": ""
            },
            "type": "choropleth"
           }
          ],
          "contour": [
           {
            "colorbar": {
             "outlinewidth": 0,
             "ticks": ""
            },
            "colorscale": [
             [
              0,
              "#0d0887"
             ],
             [
              0.1111111111111111,
              "#46039f"
             ],
             [
              0.2222222222222222,
              "#7201a8"
             ],
             [
              0.3333333333333333,
              "#9c179e"
             ],
             [
              0.4444444444444444,
              "#bd3786"
             ],
             [
              0.5555555555555556,
              "#d8576b"
             ],
             [
              0.6666666666666666,
              "#ed7953"
             ],
             [
              0.7777777777777778,
              "#fb9f3a"
             ],
             [
              0.8888888888888888,
              "#fdca26"
             ],
             [
              1,
              "#f0f921"
             ]
            ],
            "type": "contour"
           }
          ],
          "contourcarpet": [
           {
            "colorbar": {
             "outlinewidth": 0,
             "ticks": ""
            },
            "type": "contourcarpet"
           }
          ],
          "heatmap": [
           {
            "colorbar": {
             "outlinewidth": 0,
             "ticks": ""
            },
            "colorscale": [
             [
              0,
              "#0d0887"
             ],
             [
              0.1111111111111111,
              "#46039f"
             ],
             [
              0.2222222222222222,
              "#7201a8"
             ],
             [
              0.3333333333333333,
              "#9c179e"
             ],
             [
              0.4444444444444444,
              "#bd3786"
             ],
             [
              0.5555555555555556,
              "#d8576b"
             ],
             [
              0.6666666666666666,
              "#ed7953"
             ],
             [
              0.7777777777777778,
              "#fb9f3a"
             ],
             [
              0.8888888888888888,
              "#fdca26"
             ],
             [
              1,
              "#f0f921"
             ]
            ],
            "type": "heatmap"
           }
          ],
          "heatmapgl": [
           {
            "colorbar": {
             "outlinewidth": 0,
             "ticks": ""
            },
            "colorscale": [
             [
              0,
              "#0d0887"
             ],
             [
              0.1111111111111111,
              "#46039f"
             ],
             [
              0.2222222222222222,
              "#7201a8"
             ],
             [
              0.3333333333333333,
              "#9c179e"
             ],
             [
              0.4444444444444444,
              "#bd3786"
             ],
             [
              0.5555555555555556,
              "#d8576b"
             ],
             [
              0.6666666666666666,
              "#ed7953"
             ],
             [
              0.7777777777777778,
              "#fb9f3a"
             ],
             [
              0.8888888888888888,
              "#fdca26"
             ],
             [
              1,
              "#f0f921"
             ]
            ],
            "type": "heatmapgl"
           }
          ],
          "histogram": [
           {
            "marker": {
             "pattern": {
              "fillmode": "overlay",
              "size": 10,
              "solidity": 0.2
             }
            },
            "type": "histogram"
           }
          ],
          "histogram2d": [
           {
            "colorbar": {
             "outlinewidth": 0,
             "ticks": ""
            },
            "colorscale": [
             [
              0,
              "#0d0887"
             ],
             [
              0.1111111111111111,
              "#46039f"
             ],
             [
              0.2222222222222222,
              "#7201a8"
             ],
             [
              0.3333333333333333,
              "#9c179e"
             ],
             [
              0.4444444444444444,
              "#bd3786"
             ],
             [
              0.5555555555555556,
              "#d8576b"
             ],
             [
              0.6666666666666666,
              "#ed7953"
             ],
             [
              0.7777777777777778,
              "#fb9f3a"
             ],
             [
              0.8888888888888888,
              "#fdca26"
             ],
             [
              1,
              "#f0f921"
             ]
            ],
            "type": "histogram2d"
           }
          ],
          "histogram2dcontour": [
           {
            "colorbar": {
             "outlinewidth": 0,
             "ticks": ""
            },
            "colorscale": [
             [
              0,
              "#0d0887"
             ],
             [
              0.1111111111111111,
              "#46039f"
             ],
             [
              0.2222222222222222,
              "#7201a8"
             ],
             [
              0.3333333333333333,
              "#9c179e"
             ],
             [
              0.4444444444444444,
              "#bd3786"
             ],
             [
              0.5555555555555556,
              "#d8576b"
             ],
             [
              0.6666666666666666,
              "#ed7953"
             ],
             [
              0.7777777777777778,
              "#fb9f3a"
             ],
             [
              0.8888888888888888,
              "#fdca26"
             ],
             [
              1,
              "#f0f921"
             ]
            ],
            "type": "histogram2dcontour"
           }
          ],
          "mesh3d": [
           {
            "colorbar": {
             "outlinewidth": 0,
             "ticks": ""
            },
            "type": "mesh3d"
           }
          ],
          "parcoords": [
           {
            "line": {
             "colorbar": {
              "outlinewidth": 0,
              "ticks": ""
             }
            },
            "type": "parcoords"
           }
          ],
          "pie": [
           {
            "automargin": true,
            "type": "pie"
           }
          ],
          "scatter": [
           {
            "fillpattern": {
             "fillmode": "overlay",
             "size": 10,
             "solidity": 0.2
            },
            "type": "scatter"
           }
          ],
          "scatter3d": [
           {
            "line": {
             "colorbar": {
              "outlinewidth": 0,
              "ticks": ""
             }
            },
            "marker": {
             "colorbar": {
              "outlinewidth": 0,
              "ticks": ""
             }
            },
            "type": "scatter3d"
           }
          ],
          "scattercarpet": [
           {
            "marker": {
             "colorbar": {
              "outlinewidth": 0,
              "ticks": ""
             }
            },
            "type": "scattercarpet"
           }
          ],
          "scattergeo": [
           {
            "marker": {
             "colorbar": {
              "outlinewidth": 0,
              "ticks": ""
             }
            },
            "type": "scattergeo"
           }
          ],
          "scattergl": [
           {
            "marker": {
             "colorbar": {
              "outlinewidth": 0,
              "ticks": ""
             }
            },
            "type": "scattergl"
           }
          ],
          "scattermapbox": [
           {
            "marker": {
             "colorbar": {
              "outlinewidth": 0,
              "ticks": ""
             }
            },
            "type": "scattermapbox"
           }
          ],
          "scatterpolar": [
           {
            "marker": {
             "colorbar": {
              "outlinewidth": 0,
              "ticks": ""
             }
            },
            "type": "scatterpolar"
           }
          ],
          "scatterpolargl": [
           {
            "marker": {
             "colorbar": {
              "outlinewidth": 0,
              "ticks": ""
             }
            },
            "type": "scatterpolargl"
           }
          ],
          "scatterternary": [
           {
            "marker": {
             "colorbar": {
              "outlinewidth": 0,
              "ticks": ""
             }
            },
            "type": "scatterternary"
           }
          ],
          "surface": [
           {
            "colorbar": {
             "outlinewidth": 0,
             "ticks": ""
            },
            "colorscale": [
             [
              0,
              "#0d0887"
             ],
             [
              0.1111111111111111,
              "#46039f"
             ],
             [
              0.2222222222222222,
              "#7201a8"
             ],
             [
              0.3333333333333333,
              "#9c179e"
             ],
             [
              0.4444444444444444,
              "#bd3786"
             ],
             [
              0.5555555555555556,
              "#d8576b"
             ],
             [
              0.6666666666666666,
              "#ed7953"
             ],
             [
              0.7777777777777778,
              "#fb9f3a"
             ],
             [
              0.8888888888888888,
              "#fdca26"
             ],
             [
              1,
              "#f0f921"
             ]
            ],
            "type": "surface"
           }
          ],
          "table": [
           {
            "cells": {
             "fill": {
              "color": "#EBF0F8"
             },
             "line": {
              "color": "white"
             }
            },
            "header": {
             "fill": {
              "color": "#C8D4E3"
             },
             "line": {
              "color": "white"
             }
            },
            "type": "table"
           }
          ]
         },
         "layout": {
          "annotationdefaults": {
           "arrowcolor": "#2a3f5f",
           "arrowhead": 0,
           "arrowwidth": 1
          },
          "autotypenumbers": "strict",
          "coloraxis": {
           "colorbar": {
            "outlinewidth": 0,
            "ticks": ""
           }
          },
          "colorscale": {
           "diverging": [
            [
             0,
             "#8e0152"
            ],
            [
             0.1,
             "#c51b7d"
            ],
            [
             0.2,
             "#de77ae"
            ],
            [
             0.3,
             "#f1b6da"
            ],
            [
             0.4,
             "#fde0ef"
            ],
            [
             0.5,
             "#f7f7f7"
            ],
            [
             0.6,
             "#e6f5d0"
            ],
            [
             0.7,
             "#b8e186"
            ],
            [
             0.8,
             "#7fbc41"
            ],
            [
             0.9,
             "#4d9221"
            ],
            [
             1,
             "#276419"
            ]
           ],
           "sequential": [
            [
             0,
             "#0d0887"
            ],
            [
             0.1111111111111111,
             "#46039f"
            ],
            [
             0.2222222222222222,
             "#7201a8"
            ],
            [
             0.3333333333333333,
             "#9c179e"
            ],
            [
             0.4444444444444444,
             "#bd3786"
            ],
            [
             0.5555555555555556,
             "#d8576b"
            ],
            [
             0.6666666666666666,
             "#ed7953"
            ],
            [
             0.7777777777777778,
             "#fb9f3a"
            ],
            [
             0.8888888888888888,
             "#fdca26"
            ],
            [
             1,
             "#f0f921"
            ]
           ],
           "sequentialminus": [
            [
             0,
             "#0d0887"
            ],
            [
             0.1111111111111111,
             "#46039f"
            ],
            [
             0.2222222222222222,
             "#7201a8"
            ],
            [
             0.3333333333333333,
             "#9c179e"
            ],
            [
             0.4444444444444444,
             "#bd3786"
            ],
            [
             0.5555555555555556,
             "#d8576b"
            ],
            [
             0.6666666666666666,
             "#ed7953"
            ],
            [
             0.7777777777777778,
             "#fb9f3a"
            ],
            [
             0.8888888888888888,
             "#fdca26"
            ],
            [
             1,
             "#f0f921"
            ]
           ]
          },
          "colorway": [
           "#636efa",
           "#EF553B",
           "#00cc96",
           "#ab63fa",
           "#FFA15A",
           "#19d3f3",
           "#FF6692",
           "#B6E880",
           "#FF97FF",
           "#FECB52"
          ],
          "font": {
           "color": "#2a3f5f"
          },
          "geo": {
           "bgcolor": "white",
           "lakecolor": "white",
           "landcolor": "white",
           "showlakes": true,
           "showland": true,
           "subunitcolor": "#C8D4E3"
          },
          "hoverlabel": {
           "align": "left"
          },
          "hovermode": "closest",
          "mapbox": {
           "style": "light"
          },
          "paper_bgcolor": "white",
          "plot_bgcolor": "white",
          "polar": {
           "angularaxis": {
            "gridcolor": "#EBF0F8",
            "linecolor": "#EBF0F8",
            "ticks": ""
           },
           "bgcolor": "white",
           "radialaxis": {
            "gridcolor": "#EBF0F8",
            "linecolor": "#EBF0F8",
            "ticks": ""
           }
          },
          "scene": {
           "xaxis": {
            "backgroundcolor": "white",
            "gridcolor": "#DFE8F3",
            "gridwidth": 2,
            "linecolor": "#EBF0F8",
            "showbackground": true,
            "ticks": "",
            "zerolinecolor": "#EBF0F8"
           },
           "yaxis": {
            "backgroundcolor": "white",
            "gridcolor": "#DFE8F3",
            "gridwidth": 2,
            "linecolor": "#EBF0F8",
            "showbackground": true,
            "ticks": "",
            "zerolinecolor": "#EBF0F8"
           },
           "zaxis": {
            "backgroundcolor": "white",
            "gridcolor": "#DFE8F3",
            "gridwidth": 2,
            "linecolor": "#EBF0F8",
            "showbackground": true,
            "ticks": "",
            "zerolinecolor": "#EBF0F8"
           }
          },
          "shapedefaults": {
           "line": {
            "color": "#2a3f5f"
           }
          },
          "ternary": {
           "aaxis": {
            "gridcolor": "#DFE8F3",
            "linecolor": "#A2B1C6",
            "ticks": ""
           },
           "baxis": {
            "gridcolor": "#DFE8F3",
            "linecolor": "#A2B1C6",
            "ticks": ""
           },
           "bgcolor": "white",
           "caxis": {
            "gridcolor": "#DFE8F3",
            "linecolor": "#A2B1C6",
            "ticks": ""
           }
          },
          "title": {
           "x": 0.05
          },
          "xaxis": {
           "automargin": true,
           "gridcolor": "#EBF0F8",
           "linecolor": "#EBF0F8",
           "ticks": "",
           "title": {
            "standoff": 15
           },
           "zerolinecolor": "#EBF0F8",
           "zerolinewidth": 2
          },
          "yaxis": {
           "automargin": true,
           "gridcolor": "#EBF0F8",
           "linecolor": "#EBF0F8",
           "ticks": "",
           "title": {
            "standoff": 15
           },
           "zerolinecolor": "#EBF0F8",
           "zerolinewidth": 2
          }
         }
        },
        "title": {
         "font": {
          "color": "Black",
          "size": 22
         },
         "text": "Topic Word Scores",
         "x": 0.5,
         "xanchor": "center",
         "yanchor": "top"
        },
        "width": 1000,
        "xaxis": {
         "anchor": "y",
         "domain": [
          0,
          0.175
         ],
         "showgrid": true
        },
        "xaxis2": {
         "anchor": "y2",
         "domain": [
          0.275,
          0.45
         ],
         "showgrid": true
        },
        "xaxis3": {
         "anchor": "y3",
         "domain": [
          0.55,
          0.7250000000000001
         ],
         "showgrid": true
        },
        "xaxis4": {
         "anchor": "y4",
         "domain": [
          0.825,
          1
         ],
         "showgrid": true
        },
        "yaxis": {
         "anchor": "x",
         "domain": [
          0,
          1
         ],
         "showgrid": true
        },
        "yaxis2": {
         "anchor": "x2",
         "domain": [
          0,
          1
         ],
         "showgrid": true
        },
        "yaxis3": {
         "anchor": "x3",
         "domain": [
          0,
          1
         ],
         "showgrid": true
        },
        "yaxis4": {
         "anchor": "x4",
         "domain": [
          0,
          1
         ],
         "showgrid": true
        }
       }
      }
     },
     "metadata": {},
     "output_type": "display_data"
    }
   ],
   "source": [
    "topic_model.visualize_barchart()"
   ]
  },
  {
   "cell_type": "code",
   "execution_count": 50,
   "metadata": {},
   "outputs": [],
   "source": [
    "def batch_get_embeddings(texts, bert_model, tokenizer, device='cpu'):\n",
    "    inputs = tokenizer(texts, padding=True, truncation=True, return_tensors=\"pt\").to(device)\n",
    "    with torch.no_grad():\n",
    "        outputs = bert_model(**inputs, output_hidden_states=True)\n",
    "    hidden_states = outputs.hidden_states[-2]\n",
    "    embeddings = hidden_states.mean(dim=1).cpu().numpy()  # Média dos embeddings e conversão para numpy array\n",
    "    return embeddings\n",
    "\n",
    "def batch_predict_labels(texts, model, tokenizer, threshold=0.5, top_k=None, device='cpu'):\n",
    "    inputs = tokenizer(texts, padding=True, truncation=True, return_tensors=\"pt\").to(device)\n",
    "    with torch.no_grad():\n",
    "        outputs = model(**inputs)\n",
    "    probs = torch.sigmoid(outputs.logits).cpu().numpy()\n",
    "\n",
    "    preds = []\n",
    "    for prob in probs:\n",
    "        if top_k:\n",
    "            top_indices = np.argsort(prob)[-top_k:]  # Obter os índices dos top_k rótulos mais prováveis\n",
    "            pred = np.zeros(prob.shape)\n",
    "            pred[top_indices] = 1\n",
    "        else:\n",
    "            pred = (prob > threshold).astype(int)\n",
    "        preds.append(pred)\n",
    "    \n",
    "    return np.array(preds), probs\n",
    "\n",
    "def apply_bertopic(texts, topic_model, bert_model=None, tokenizer=None, use_bert_embeddings=False, device='cpu', top_n_topics=None, top_n_tokens=None):\n",
    "    if use_bert_embeddings and bert_model and tokenizer:\n",
    "        embeddings = batch_get_embeddings(texts, bert_model, tokenizer, device=device)\n",
    "        topics, _ = topic_model.transform(texts, embeddings=embeddings)  # Passar os embeddings aqui\n",
    "    else:\n",
    "        topics, _ = topic_model.transform(texts)\n",
    "    \n",
    "    topic_details = []\n",
    "    for topic in topics:\n",
    "        if topic != -1:\n",
    "            topic_tokens = topic_model.get_topic(topic)[:top_n_tokens] if top_n_tokens else topic_model.get_topic(topic)\n",
    "            topic_details.append((topic, topic_tokens))\n",
    "    \n",
    "    return topic_details[:top_n_topics] if top_n_topics else topic_details\n",
    "\n",
    "def consolidate_results(texts, model, tokenizer, topic_model, mlb, threshold=0.5, top_k=None, use_bert_embeddings=False, device='cpu', top_n_topics=None, top_n_tokens=None):\n",
    "    preds, probs = batch_predict_labels(texts, model, tokenizer, threshold, top_k, device)\n",
    "    known_labels = mlb.inverse_transform(preds)\n",
    "    \n",
    "    all_labels = []\n",
    "    topic_details = []\n",
    "\n",
    "    for i, (pred, prob) in enumerate(zip(preds, probs)):\n",
    "        if np.max(prob) < threshold:\n",
    "            topics = apply_bertopic([texts[i]], topic_model, bert_model=model, tokenizer=tokenizer, use_bert_embeddings=use_bert_embeddings, device=device, top_n_topics=top_n_topics, top_n_tokens=top_n_tokens)\n",
    "            topic_labels = [token for topic, tokens in topics for token in tokens]\n",
    "            all_labels.append(list(set(known_labels[i]) | set(topic_labels)))\n",
    "            topic_details.append(topics)\n",
    "        else:\n",
    "            all_labels.append(known_labels[i])\n",
    "            topic_details.append([])\n",
    "\n",
    "    return all_labels, topic_details\n",
    "\n",
    "def batch_predict(texts, model, tokenizer, topic_model, mlb, threshold=0.5, top_k=None, use_bert_embeddings=False, device='cpu', top_n_topics=None, top_n_tokens=None):\n",
    "    # Move model to device and set to evaluation mode\n",
    "    model.to(device)\n",
    "    model.eval()\n",
    "\n",
    "    if use_bert_embeddings:\n",
    "        bert_model = model\n",
    "        bert_model.to(device)\n",
    "        bert_model.eval()\n",
    "    \n",
    "    all_labels, topic_details = consolidate_results(texts, model, tokenizer, topic_model, mlb, threshold, top_k, use_bert_embeddings, device, top_n_topics, top_n_tokens)\n",
    "    return list(zip(all_labels, topic_details))"
   ]
  },
  {
   "cell_type": "code",
   "execution_count": 52,
   "metadata": {},
   "outputs": [
    {
     "ename": "AttributeError",
     "evalue": "'NoneType' object has no attribute 'embed_documents'",
     "output_type": "error",
     "traceback": [
      "\u001b[1;31m---------------------------------------------------------------------------\u001b[0m",
      "\u001b[1;31mAttributeError\u001b[0m                            Traceback (most recent call last)",
      "Cell \u001b[1;32mIn[52], line 9\u001b[0m\n\u001b[0;32m      6\u001b[0m top_n_tokens \u001b[38;5;241m=\u001b[39m \u001b[38;5;241m5\u001b[39m\n\u001b[0;32m      8\u001b[0m \u001b[38;5;66;03m# Aplicar a predição em lote\u001b[39;00m\n\u001b[1;32m----> 9\u001b[0m predicted_labels_and_topics \u001b[38;5;241m=\u001b[39m \u001b[43mbatch_predict\u001b[49m\u001b[43m(\u001b[49m\n\u001b[0;32m     10\u001b[0m \u001b[43m    \u001b[49m\u001b[43mtexts\u001b[49m\u001b[38;5;241;43m=\u001b[39;49m\u001b[43mtest_texts\u001b[49m\u001b[43m,\u001b[49m\n\u001b[0;32m     11\u001b[0m \u001b[43m    \u001b[49m\u001b[43mmodel\u001b[49m\u001b[38;5;241;43m=\u001b[39;49m\u001b[43mmodel\u001b[49m\u001b[43m,\u001b[49m\n\u001b[0;32m     12\u001b[0m \u001b[43m    \u001b[49m\u001b[43mtokenizer\u001b[49m\u001b[38;5;241;43m=\u001b[39;49m\u001b[43mtokenizer\u001b[49m\u001b[43m,\u001b[49m\n\u001b[0;32m     13\u001b[0m \u001b[43m    \u001b[49m\u001b[43mtopic_model\u001b[49m\u001b[38;5;241;43m=\u001b[39;49m\u001b[43mtopic_model\u001b[49m\u001b[43m,\u001b[49m\n\u001b[0;32m     14\u001b[0m \u001b[43m    \u001b[49m\u001b[43mmlb\u001b[49m\u001b[38;5;241;43m=\u001b[39;49m\u001b[43mmlb\u001b[49m\u001b[43m,\u001b[49m\n\u001b[0;32m     15\u001b[0m \u001b[43m    \u001b[49m\u001b[43mthreshold\u001b[49m\u001b[38;5;241;43m=\u001b[39;49m\u001b[43mthreshold\u001b[49m\u001b[43m,\u001b[49m\n\u001b[0;32m     16\u001b[0m \u001b[43m    \u001b[49m\u001b[43mtop_k\u001b[49m\u001b[38;5;241;43m=\u001b[39;49m\u001b[43mtop_k\u001b[49m\u001b[43m,\u001b[49m\n\u001b[0;32m     17\u001b[0m \u001b[43m    \u001b[49m\u001b[43muse_bert_embeddings\u001b[49m\u001b[38;5;241;43m=\u001b[39;49m\u001b[38;5;28;43;01mFalse\u001b[39;49;00m\u001b[43m,\u001b[49m\u001b[43m  \u001b[49m\u001b[38;5;66;43;03m# Escolher se deseja usar embeddings do BERT\u001b[39;49;00m\n\u001b[0;32m     18\u001b[0m \u001b[43m    \u001b[49m\u001b[43mdevice\u001b[49m\u001b[38;5;241;43m=\u001b[39;49m\u001b[38;5;124;43m'\u001b[39;49m\u001b[38;5;124;43mcpu\u001b[39;49m\u001b[38;5;124;43m'\u001b[39;49m\u001b[43m,\u001b[49m\u001b[43m  \u001b[49m\u001b[38;5;66;43;03m# Ou 'cuda' se você estiver usando GPU\u001b[39;49;00m\n\u001b[0;32m     19\u001b[0m \u001b[43m    \u001b[49m\u001b[43mtop_n_topics\u001b[49m\u001b[38;5;241;43m=\u001b[39;49m\u001b[43mtop_n_topics\u001b[49m\u001b[43m,\u001b[49m\n\u001b[0;32m     20\u001b[0m \u001b[43m    \u001b[49m\u001b[43mtop_n_tokens\u001b[49m\u001b[38;5;241;43m=\u001b[39;49m\u001b[43mtop_n_tokens\u001b[49m\n\u001b[0;32m     21\u001b[0m \u001b[43m)\u001b[49m\n\u001b[0;32m     23\u001b[0m \u001b[38;5;66;03m# Exibir os resultados\u001b[39;00m\n\u001b[0;32m     24\u001b[0m \u001b[38;5;28;01mfor\u001b[39;00m text, (labels, topics) \u001b[38;5;129;01min\u001b[39;00m \u001b[38;5;28mzip\u001b[39m(test_texts, predicted_labels_and_topics):\n",
      "Cell \u001b[1;32mIn[50], line 71\u001b[0m, in \u001b[0;36mbatch_predict\u001b[1;34m(texts, model, tokenizer, topic_model, mlb, threshold, top_k, use_bert_embeddings, device, top_n_topics, top_n_tokens)\u001b[0m\n\u001b[0;32m     68\u001b[0m     bert_model\u001b[38;5;241m.\u001b[39mto(device)\n\u001b[0;32m     69\u001b[0m     bert_model\u001b[38;5;241m.\u001b[39meval()\n\u001b[1;32m---> 71\u001b[0m all_labels, topic_details \u001b[38;5;241m=\u001b[39m \u001b[43mconsolidate_results\u001b[49m\u001b[43m(\u001b[49m\u001b[43mtexts\u001b[49m\u001b[43m,\u001b[49m\u001b[43m \u001b[49m\u001b[43mmodel\u001b[49m\u001b[43m,\u001b[49m\u001b[43m \u001b[49m\u001b[43mtokenizer\u001b[49m\u001b[43m,\u001b[49m\u001b[43m \u001b[49m\u001b[43mtopic_model\u001b[49m\u001b[43m,\u001b[49m\u001b[43m \u001b[49m\u001b[43mmlb\u001b[49m\u001b[43m,\u001b[49m\u001b[43m \u001b[49m\u001b[43mthreshold\u001b[49m\u001b[43m,\u001b[49m\u001b[43m \u001b[49m\u001b[43mtop_k\u001b[49m\u001b[43m,\u001b[49m\u001b[43m \u001b[49m\u001b[43muse_bert_embeddings\u001b[49m\u001b[43m,\u001b[49m\u001b[43m \u001b[49m\u001b[43mdevice\u001b[49m\u001b[43m,\u001b[49m\u001b[43m \u001b[49m\u001b[43mtop_n_topics\u001b[49m\u001b[43m,\u001b[49m\u001b[43m \u001b[49m\u001b[43mtop_n_tokens\u001b[49m\u001b[43m)\u001b[49m\n\u001b[0;32m     72\u001b[0m \u001b[38;5;28;01mreturn\u001b[39;00m \u001b[38;5;28mlist\u001b[39m(\u001b[38;5;28mzip\u001b[39m(all_labels, topic_details))\n",
      "Cell \u001b[1;32mIn[50], line 51\u001b[0m, in \u001b[0;36mconsolidate_results\u001b[1;34m(texts, model, tokenizer, topic_model, mlb, threshold, top_k, use_bert_embeddings, device, top_n_topics, top_n_tokens)\u001b[0m\n\u001b[0;32m     49\u001b[0m \u001b[38;5;28;01mfor\u001b[39;00m i, (pred, prob) \u001b[38;5;129;01min\u001b[39;00m \u001b[38;5;28menumerate\u001b[39m(\u001b[38;5;28mzip\u001b[39m(preds, probs)):\n\u001b[0;32m     50\u001b[0m     \u001b[38;5;28;01mif\u001b[39;00m np\u001b[38;5;241m.\u001b[39mmax(prob) \u001b[38;5;241m<\u001b[39m threshold:\n\u001b[1;32m---> 51\u001b[0m         topics \u001b[38;5;241m=\u001b[39m \u001b[43mapply_bertopic\u001b[49m\u001b[43m(\u001b[49m\u001b[43m[\u001b[49m\u001b[43mtexts\u001b[49m\u001b[43m[\u001b[49m\u001b[43mi\u001b[49m\u001b[43m]\u001b[49m\u001b[43m]\u001b[49m\u001b[43m,\u001b[49m\u001b[43m \u001b[49m\u001b[43mtopic_model\u001b[49m\u001b[43m,\u001b[49m\u001b[43m \u001b[49m\u001b[43mbert_model\u001b[49m\u001b[38;5;241;43m=\u001b[39;49m\u001b[43mmodel\u001b[49m\u001b[43m,\u001b[49m\u001b[43m \u001b[49m\u001b[43mtokenizer\u001b[49m\u001b[38;5;241;43m=\u001b[39;49m\u001b[43mtokenizer\u001b[49m\u001b[43m,\u001b[49m\u001b[43m \u001b[49m\u001b[43muse_bert_embeddings\u001b[49m\u001b[38;5;241;43m=\u001b[39;49m\u001b[43muse_bert_embeddings\u001b[49m\u001b[43m,\u001b[49m\u001b[43m \u001b[49m\u001b[43mdevice\u001b[49m\u001b[38;5;241;43m=\u001b[39;49m\u001b[43mdevice\u001b[49m\u001b[43m,\u001b[49m\u001b[43m \u001b[49m\u001b[43mtop_n_topics\u001b[49m\u001b[38;5;241;43m=\u001b[39;49m\u001b[43mtop_n_topics\u001b[49m\u001b[43m,\u001b[49m\u001b[43m \u001b[49m\u001b[43mtop_n_tokens\u001b[49m\u001b[38;5;241;43m=\u001b[39;49m\u001b[43mtop_n_tokens\u001b[49m\u001b[43m)\u001b[49m\n\u001b[0;32m     52\u001b[0m         topic_labels \u001b[38;5;241m=\u001b[39m [token \u001b[38;5;28;01mfor\u001b[39;00m topic, tokens \u001b[38;5;129;01min\u001b[39;00m topics \u001b[38;5;28;01mfor\u001b[39;00m token \u001b[38;5;129;01min\u001b[39;00m tokens]\n\u001b[0;32m     53\u001b[0m         all_labels\u001b[38;5;241m.\u001b[39mappend(\u001b[38;5;28mlist\u001b[39m(\u001b[38;5;28mset\u001b[39m(known_labels[i]) \u001b[38;5;241m|\u001b[39m \u001b[38;5;28mset\u001b[39m(topic_labels)))\n",
      "Cell \u001b[1;32mIn[50], line 32\u001b[0m, in \u001b[0;36mapply_bertopic\u001b[1;34m(texts, topic_model, bert_model, tokenizer, use_bert_embeddings, device, top_n_topics, top_n_tokens)\u001b[0m\n\u001b[0;32m     30\u001b[0m     topics, _ \u001b[38;5;241m=\u001b[39m topic_model\u001b[38;5;241m.\u001b[39mtransform(texts, embeddings\u001b[38;5;241m=\u001b[39membeddings)  \u001b[38;5;66;03m# Passar os embeddings aqui\u001b[39;00m\n\u001b[0;32m     31\u001b[0m \u001b[38;5;28;01melse\u001b[39;00m:\n\u001b[1;32m---> 32\u001b[0m     topics, _ \u001b[38;5;241m=\u001b[39m \u001b[43mtopic_model\u001b[49m\u001b[38;5;241;43m.\u001b[39;49m\u001b[43mtransform\u001b[49m\u001b[43m(\u001b[49m\u001b[43mtexts\u001b[49m\u001b[43m)\u001b[49m\n\u001b[0;32m     34\u001b[0m topic_details \u001b[38;5;241m=\u001b[39m []\n\u001b[0;32m     35\u001b[0m \u001b[38;5;28;01mfor\u001b[39;00m topic \u001b[38;5;129;01min\u001b[39;00m topics:\n",
      "File \u001b[1;32mc:\\Users\\csouza\\AppData\\Local\\pypoetry\\Cache\\virtualenvs\\academic-fingerprint-4AictD0y-py3.11\\Lib\\site-packages\\bertopic\\_bertopic.py:506\u001b[0m, in \u001b[0;36mBERTopic.transform\u001b[1;34m(self, documents, embeddings, images)\u001b[0m\n\u001b[0;32m    503\u001b[0m     documents \u001b[38;5;241m=\u001b[39m [documents]\n\u001b[0;32m    505\u001b[0m \u001b[38;5;28;01mif\u001b[39;00m embeddings \u001b[38;5;129;01mis\u001b[39;00m \u001b[38;5;28;01mNone\u001b[39;00m:\n\u001b[1;32m--> 506\u001b[0m     embeddings \u001b[38;5;241m=\u001b[39m \u001b[38;5;28;43mself\u001b[39;49m\u001b[38;5;241;43m.\u001b[39;49m\u001b[43m_extract_embeddings\u001b[49m\u001b[43m(\u001b[49m\u001b[43mdocuments\u001b[49m\u001b[43m,\u001b[49m\n\u001b[0;32m    507\u001b[0m \u001b[43m                                          \u001b[49m\u001b[43mimages\u001b[49m\u001b[38;5;241;43m=\u001b[39;49m\u001b[43mimages\u001b[49m\u001b[43m,\u001b[49m\n\u001b[0;32m    508\u001b[0m \u001b[43m                                          \u001b[49m\u001b[43mmethod\u001b[49m\u001b[38;5;241;43m=\u001b[39;49m\u001b[38;5;124;43m\"\u001b[39;49m\u001b[38;5;124;43mdocument\u001b[39;49m\u001b[38;5;124;43m\"\u001b[39;49m\u001b[43m,\u001b[49m\n\u001b[0;32m    509\u001b[0m \u001b[43m                                          \u001b[49m\u001b[43mverbose\u001b[49m\u001b[38;5;241;43m=\u001b[39;49m\u001b[38;5;28;43mself\u001b[39;49m\u001b[38;5;241;43m.\u001b[39;49m\u001b[43mverbose\u001b[49m\u001b[43m)\u001b[49m\n\u001b[0;32m    511\u001b[0m \u001b[38;5;66;03m# Check if an embedding model was found\u001b[39;00m\n\u001b[0;32m    512\u001b[0m \u001b[38;5;28;01mif\u001b[39;00m embeddings \u001b[38;5;129;01mis\u001b[39;00m \u001b[38;5;28;01mNone\u001b[39;00m:\n",
      "File \u001b[1;32mc:\\Users\\csouza\\AppData\\Local\\pypoetry\\Cache\\virtualenvs\\academic-fingerprint-4AictD0y-py3.11\\Lib\\site-packages\\bertopic\\_bertopic.py:3410\u001b[0m, in \u001b[0;36mBERTopic._extract_embeddings\u001b[1;34m(self, documents, images, method, verbose)\u001b[0m\n\u001b[0;32m   3408\u001b[0m     embeddings \u001b[38;5;241m=\u001b[39m \u001b[38;5;28mself\u001b[39m\u001b[38;5;241m.\u001b[39membedding_model\u001b[38;5;241m.\u001b[39membed_words(words\u001b[38;5;241m=\u001b[39mdocuments, verbose\u001b[38;5;241m=\u001b[39mverbose)\n\u001b[0;32m   3409\u001b[0m \u001b[38;5;28;01melif\u001b[39;00m method \u001b[38;5;241m==\u001b[39m \u001b[38;5;124m\"\u001b[39m\u001b[38;5;124mdocument\u001b[39m\u001b[38;5;124m\"\u001b[39m:\n\u001b[1;32m-> 3410\u001b[0m     embeddings \u001b[38;5;241m=\u001b[39m \u001b[38;5;28;43mself\u001b[39;49m\u001b[38;5;241;43m.\u001b[39;49m\u001b[43membedding_model\u001b[49m\u001b[38;5;241;43m.\u001b[39;49m\u001b[43membed_documents\u001b[49m(documents, verbose\u001b[38;5;241m=\u001b[39mverbose)\n\u001b[0;32m   3411\u001b[0m \u001b[38;5;28;01melif\u001b[39;00m documents[\u001b[38;5;241m0\u001b[39m] \u001b[38;5;129;01mis\u001b[39;00m \u001b[38;5;28;01mNone\u001b[39;00m \u001b[38;5;129;01mand\u001b[39;00m images \u001b[38;5;129;01mis\u001b[39;00m \u001b[38;5;28;01mNone\u001b[39;00m:\n\u001b[0;32m   3412\u001b[0m     \u001b[38;5;28;01mraise\u001b[39;00m \u001b[38;5;167;01mValueError\u001b[39;00m(\u001b[38;5;124m\"\u001b[39m\u001b[38;5;124mMake sure to use an embedding model that can either embed documents\u001b[39m\u001b[38;5;124m\"\u001b[39m\n\u001b[0;32m   3413\u001b[0m                      \u001b[38;5;124m\"\u001b[39m\u001b[38;5;124mor images depending on which you want to embed.\u001b[39m\u001b[38;5;124m\"\u001b[39m)\n",
      "\u001b[1;31mAttributeError\u001b[0m: 'NoneType' object has no attribute 'embed_documents'"
     ]
    }
   ],
   "source": [
    "test_texts = test_data['cleaned_text'].tolist()[0:4]\n",
    "\n",
    "threshold = 0.7\n",
    "top_k = 5\n",
    "top_n_topics = 3\n",
    "top_n_tokens = 5\n",
    "\n",
    "# Aplicar a predição em lote\n",
    "predicted_labels_and_topics = batch_predict(\n",
    "    texts=test_texts,\n",
    "    model=model,\n",
    "    tokenizer=tokenizer,\n",
    "    topic_model=topic_model,\n",
    "    mlb=mlb,\n",
    "    threshold=threshold,\n",
    "    top_k=top_k,\n",
    "    use_bert_embeddings=False,  # Escolher se deseja usar embeddings do BERT\n",
    "    device='cpu',  # Ou 'cuda' se você estiver usando GPU\n",
    "    top_n_topics=top_n_topics,\n",
    "    top_n_tokens=top_n_tokens\n",
    ")\n",
    "\n",
    "# Exibir os resultados\n",
    "for text, (labels, topics) in zip(test_texts, predicted_labels_and_topics):\n",
    "    print(f\"Texto: {text}\")\n",
    "    print(f\"Rótulos preditos: {labels}\")\n",
    "    if topics:\n",
    "        print(\"Tópicos e tokens associados:\")\n",
    "        for topic, tokens in topics:\n",
    "            print(f\"  Tópico {topic}: {tokens}\")\n",
    "    print()\n"
   ]
  }
 ],
 "metadata": {
  "kernelspec": {
   "display_name": "Python 3",
   "language": "python",
   "name": "python3"
  },
  "language_info": {
   "codemirror_mode": {
    "name": "ipython",
    "version": 3
   },
   "file_extension": ".py",
   "mimetype": "text/x-python",
   "name": "python",
   "nbconvert_exporter": "python",
   "pygments_lexer": "ipython3",
   "version": "3.11.5"
  }
 },
 "nbformat": 4,
 "nbformat_minor": 2
}
